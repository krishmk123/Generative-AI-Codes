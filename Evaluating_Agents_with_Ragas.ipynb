{
  "cells": [
    {
      "cell_type": "markdown",
      "metadata": {
        "id": "t1ub1OLYZQvz"
      },
      "source": [
        "# Using Ragas to Evaluate an Agent Application built with LangChain and LangGraph\n",
        "\n",
        "In the following notebook, we'll be looking at how [Ragas](https://github.com/explodinggradients/ragas) can be helpful in a number of ways when looking to evaluate your RAG applications!\n",
        "\n",
        "While this example is rooted in LangChain/LangGraph - Ragas is framework agnostic (you don't even need to be using a framework!).\n",
        "\n",
        "We'll:\n",
        "\n",
        "- Collect our data\n",
        "- Create a simple Agent application\n",
        "- Evaluate our Agent application\n",
        "\n",
        "> NOTE: This notebook is modified from Ragas' Official Documentation [LangGraph tutorial](https://docs.ragas.io/en/stable/howtos/integrations/_langgraph_agent_evaluation/)!"
      ]
    },
    {
      "cell_type": "markdown",
      "metadata": {
        "id": "Q8Ms4ngAZQv1"
      },
      "source": [
        "## Installing Ragas and Other Dependencies\n",
        "Install Ragas and Langgraph with pip:"
      ]
    },
    {
      "cell_type": "code",
      "execution_count": null,
      "metadata": {
        "collapsed": true,
        "id": "vQk4aWbpZQv1",
        "colab": {
          "base_uri": "https://localhost:8080/"
        },
        "outputId": "4ca96531-99a6-4464-d0f1-708ca2e3e857"
      },
      "outputs": [
        {
          "output_type": "stream",
          "name": "stdout",
          "text": [
            "\u001b[?25l   \u001b[90m━━━━━━━━━━━━━━━━━━━━━━━━━━━━━━━━━━━━━━━━\u001b[0m \u001b[32m0.0/118.5 kB\u001b[0m \u001b[31m?\u001b[0m eta \u001b[36m-:--:--\u001b[0m\r\u001b[2K   \u001b[91m━━━━━━━━━━━━━━━━━━━━━━━━━━━━━━━━━━━━━━\u001b[0m\u001b[90m╺\u001b[0m\u001b[90m━\u001b[0m \u001b[32m112.6/118.5 kB\u001b[0m \u001b[31m3.8 MB/s\u001b[0m eta \u001b[36m0:00:01\u001b[0m\r\u001b[2K   \u001b[90m━━━━━━━━━━━━━━━━━━━━━━━━━━━━━━━━━━━━━━━━\u001b[0m \u001b[32m118.5/118.5 kB\u001b[0m \u001b[31m2.6 MB/s\u001b[0m eta \u001b[36m0:00:00\u001b[0m\n",
            "\u001b[?25h\u001b[?25l   \u001b[90m━━━━━━━━━━━━━━━━━━━━━━━━━━━━━━━━━━━━━━━━\u001b[0m \u001b[32m0.0/177.1 kB\u001b[0m \u001b[31m?\u001b[0m eta \u001b[36m-:--:--\u001b[0m\r\u001b[2K   \u001b[91m━━━━━━━━━━━━━━━━━━━━━━━━━━━━━━━━━━━━━━━\u001b[0m\u001b[90m╺\u001b[0m \u001b[32m174.1/177.1 kB\u001b[0m \u001b[31m8.5 MB/s\u001b[0m eta \u001b[36m0:00:01\u001b[0m\r\u001b[2K   \u001b[90m━━━━━━━━━━━━━━━━━━━━━━━━━━━━━━━━━━━━━━━━\u001b[0m \u001b[32m177.1/177.1 kB\u001b[0m \u001b[31m4.7 MB/s\u001b[0m eta \u001b[36m0:00:00\u001b[0m\n",
            "\u001b[2K   \u001b[90m━━━━━━━━━━━━━━━━━━━━━━━━━━━━━━━━━━━━━━━━\u001b[0m \u001b[32m45.5/45.5 kB\u001b[0m \u001b[31m2.5 MB/s\u001b[0m eta \u001b[36m0:00:00\u001b[0m\n",
            "\u001b[2K   \u001b[90m━━━━━━━━━━━━━━━━━━━━━━━━━━━━━━━━━━━━━━━━\u001b[0m \u001b[32m45.4/45.4 kB\u001b[0m \u001b[31m2.7 MB/s\u001b[0m eta \u001b[36m0:00:00\u001b[0m\n",
            "\u001b[2K   \u001b[90m━━━━━━━━━━━━━━━━━━━━━━━━━━━━━━━━━━━━━━━━\u001b[0m \u001b[32m485.4/485.4 kB\u001b[0m \u001b[31m12.6 MB/s\u001b[0m eta \u001b[36m0:00:00\u001b[0m\n",
            "\u001b[2K   \u001b[90m━━━━━━━━━━━━━━━━━━━━━━━━━━━━━━━━━━━━━━━━\u001b[0m \u001b[32m2.5/2.5 MB\u001b[0m \u001b[31m37.4 MB/s\u001b[0m eta \u001b[36m0:00:00\u001b[0m\n",
            "\u001b[2K   \u001b[90m━━━━━━━━━━━━━━━━━━━━━━━━━━━━━━━━━━━━━━━━\u001b[0m \u001b[32m1.0/1.0 MB\u001b[0m \u001b[31m37.6 MB/s\u001b[0m eta \u001b[36m0:00:00\u001b[0m\n",
            "\u001b[2K   \u001b[90m━━━━━━━━━━━━━━━━━━━━━━━━━━━━━━━━━━━━━━━━\u001b[0m \u001b[32m415.1/415.1 kB\u001b[0m \u001b[31m23.9 MB/s\u001b[0m eta \u001b[36m0:00:00\u001b[0m\n",
            "\u001b[2K   \u001b[90m━━━━━━━━━━━━━━━━━━━━━━━━━━━━━━━━━━━━━━━━\u001b[0m \u001b[32m55.3/55.3 kB\u001b[0m \u001b[31m4.0 MB/s\u001b[0m eta \u001b[36m0:00:00\u001b[0m\n",
            "\u001b[2K   \u001b[90m━━━━━━━━━━━━━━━━━━━━━━━━━━━━━━━━━━━━━━━━\u001b[0m \u001b[32m1.2/1.2 MB\u001b[0m \u001b[31m43.2 MB/s\u001b[0m eta \u001b[36m0:00:00\u001b[0m\n",
            "\u001b[2K   \u001b[90m━━━━━━━━━━━━━━━━━━━━━━━━━━━━━━━━━━━━━━━━\u001b[0m \u001b[32m116.3/116.3 kB\u001b[0m \u001b[31m8.4 MB/s\u001b[0m eta \u001b[36m0:00:00\u001b[0m\n",
            "\u001b[2K   \u001b[90m━━━━━━━━━━━━━━━━━━━━━━━━━━━━━━━━━━━━━━━━\u001b[0m \u001b[32m143.5/143.5 kB\u001b[0m \u001b[31m9.4 MB/s\u001b[0m eta \u001b[36m0:00:00\u001b[0m\n",
            "\u001b[2K   \u001b[90m━━━━━━━━━━━━━━━━━━━━━━━━━━━━━━━━━━━━━━━━\u001b[0m \u001b[32m194.8/194.8 kB\u001b[0m \u001b[31m8.7 MB/s\u001b[0m eta \u001b[36m0:00:00\u001b[0m\n",
            "\u001b[2K   \u001b[90m━━━━━━━━━━━━━━━━━━━━━━━━━━━━━━━━━━━━━━━━\u001b[0m \u001b[32m50.9/50.9 kB\u001b[0m \u001b[31m2.8 MB/s\u001b[0m eta \u001b[36m0:00:00\u001b[0m\n",
            "\u001b[?25h"
          ]
        }
      ],
      "source": [
        "!pip install -qU langgraph==0.2.44 ragas==0.2.12 nltk"
      ]
    },
    {
      "cell_type": "markdown",
      "source": [
        "### Alpha Vantage API Key\n",
        "\n",
        "Get free api key from https://www.alphavantage.co/support/#api-key"
      ],
      "metadata": {
        "id": "K7iNPhN9_opo"
      }
    },
    {
      "cell_type": "code",
      "source": [
        "import os\n",
        "import getpass\n",
        "\n",
        "os.environ[\"ALPHA_API_KEY\"] = getpass.getpass(\"Enter your API key: \")"
      ],
      "metadata": {
        "id": "lB5bVnoV7rz-",
        "outputId": "125731ad-d15d-4a5e-8c8a-222c9c062487",
        "colab": {
          "base_uri": "https://localhost:8080/"
        }
      },
      "execution_count": null,
      "outputs": [
        {
          "name": "stdout",
          "output_type": "stream",
          "text": [
            "Enter your API key: ··········\n"
          ]
        }
      ]
    },
    {
      "cell_type": "markdown",
      "metadata": {
        "id": "eJJ-WKWMZQv2"
      },
      "source": [
        "## Building the ReAct Agent"
      ]
    },
    {
      "cell_type": "markdown",
      "metadata": {
        "id": "2SduQYJbZQv3"
      },
      "source": [
        "### Define the get_stock_price Tool\n",
        "\n",
        "The get_stock_price tool will be used by the agent to fetch the stock price of a specified company. We'll create this tool using the @tool decorator from LangChain."
      ]
    },
    {
      "cell_type": "code",
      "source": [
        "from langchain_core.tools import tool\n",
        "import requests\n",
        "import pandas as pd\n",
        "\n",
        "\n",
        "@tool\n",
        "def get_stock_price(ticker: str):\n",
        "    \"\"\"\n",
        "    Fetches the stock price for a given ticker symbol using the Alpha Vantage API.\n",
        "\n",
        "    Args:\n",
        "        ticker (str): The ticker symbol of the stock.\n",
        "\n",
        "    Returns:\n",
        "        pd.DataFrame: A dataframe containing the latest stock data with 30min interval.\n",
        "    \"\"\"\n",
        "    # Define your Alpha Vantage API key\n",
        "    alpha_api_key = os.environ.get(\"ALPHA_API_KEY\")\n",
        "\n",
        "    # Construct the API request URL\n",
        "    url = f'https://www.alphavantage.co/query?function=TIME_SERIES_INTRADAY&symbol={ticker}&interval=30min&outputsize=full&apikey={alpha_api_key}'\n",
        "    response = requests.get(url)\n",
        "    data = response.json()\n",
        "\n",
        "    # Check if the response contains the 'Time Series (30min)' key\n",
        "    if 'Time Series (30min)' not in data:\n",
        "        return f\"Error: {data.get('Note', 'Unable to fetch data.')}\"\n",
        "\n",
        "    # Extract the time series data\n",
        "    time_series = data['Time Series (30min)']\n",
        "\n",
        "    # Convert the time series data into a DataFrame\n",
        "    df = pd.DataFrame.from_dict(time_series, orient='index')\n",
        "\n",
        "    # Rename the columns\n",
        "    df.columns = ['open', 'high', 'low', 'close', 'volume']\n",
        "\n",
        "    # Convert the index to datetime format\n",
        "    df.index = pd.to_datetime(df.index)\n",
        "\n",
        "    # Filter for the latest date\n",
        "    latest_date = df.index.max().date()\n",
        "    filtered_df = df[df.index.date == latest_date]\n",
        "\n",
        "    return filtered_df\n",
        "\n",
        "\n",
        "\n",
        "@tool\n",
        "def calculate_percentage(stock_price: float, percentage: float) -> float:\n",
        "    \"\"\"\n",
        "    Calculates the specified percentage of the given stock price.\n",
        "\n",
        "    Args:\n",
        "        stock_price (float): The current stock price.\n",
        "        percentage (float): The percentage to calculate.\n",
        "\n",
        "    Returns:\n",
        "        float: The calculated percentage value of the stock price.\n",
        "    \"\"\"\n",
        "    calculated_value = (percentage / 100) * stock_price\n",
        "    return calculated_value"
      ],
      "metadata": {
        "id": "DUblFksh7EZE"
      },
      "execution_count": null,
      "outputs": []
    },
    {
      "cell_type": "markdown",
      "metadata": {
        "id": "j85XikcLZQv4"
      },
      "source": [
        "### Binding the Tool to the LLM\n",
        "With the get_stock_price tool defined, the next step is to bind it to the AzureChatOpenAI model. This enables the agent to invoke the tool during its execution based on the user's requests allowing it to interact with external data and perform actions beyond its native capabilities."
      ]
    },
    {
      "cell_type": "code",
      "source": [
        "import json\n",
        "\n",
        "with open ('config1_api.json') as f:\n",
        "    cred1 = json.load(f)"
      ],
      "metadata": {
        "id": "54lGqiDRlVE_"
      },
      "execution_count": null,
      "outputs": []
    },
    {
      "cell_type": "code",
      "execution_count": null,
      "metadata": {
        "id": "lsxVT0lUZQv4"
      },
      "outputs": [],
      "source": [
        "from langchain_openai import AzureChatOpenAI\n",
        "\n",
        "llm = AzureChatOpenAI(\n",
        "    api_key=cred1['AZURE_OPENAI_KEY'],\n",
        "    azure_endpoint=cred1['AZURE_OPENAI_ENDPOINT'],\n",
        "    api_version=cred1['AZURE_OPENAI_APIVERSION'],\n",
        "    model=cred1['CHATGPT_MODEL'],\n",
        "    temperature=0\n",
        ")\n",
        "\n",
        "tools = [get_stock_price, calculate_percentage]\n",
        "llm_with_tools = llm.bind_tools(tools)"
      ]
    },
    {
      "cell_type": "markdown",
      "metadata": {
        "id": "yuDuSrmQZQv4"
      },
      "source": [
        "In LangGraph, state plays a crucial role in tracking and updating information as the graph executes. As different parts of the graph run, the state evolves to reflect the changes and contains information that is passed between nodes.\n",
        "\n",
        "For example, in a conversational system like this one, the state is used to track the exchanged messages. Each time a new message is generated, it is added to the state and the updated state is passed through the nodes, ensuring the conversation progresses logically.\n",
        "\n",
        "### Defining the State\n",
        "To implement this in LangGraph, we define a state class that maintains a list of messages. Whenever a new message is produced it gets appended to this list, ensuring that the conversation history is continuously updated."
      ]
    },
    {
      "cell_type": "code",
      "execution_count": null,
      "metadata": {
        "id": "JHHXxYT1ZQv4"
      },
      "outputs": [],
      "source": [
        "from langgraph.graph import END\n",
        "from langchain_core.messages import AnyMessage\n",
        "from langgraph.graph.message import add_messages\n",
        "from typing import Annotated\n",
        "from typing_extensions import TypedDict\n",
        "\n",
        "\n",
        "class GraphState(TypedDict):\n",
        "    messages: Annotated[list[AnyMessage], add_messages]"
      ]
    },
    {
      "cell_type": "markdown",
      "metadata": {
        "id": "1KGbjrAOZQv4"
      },
      "source": [
        "### Defining the should_continue Function\n",
        "The `should_continue` function determines whether the conversation should proceed with further tool interactions or end. Specifically, it checks if the last message contains any tool calls (e.g., a request for stock prices).\n",
        "\n",
        "- If the last message includes tool calls, indicating that the agent has invoked an external tool, the conversation continues and moves to the \"tools\" node.\n",
        "- If there are no tool calls, the conversation ends, represented by the END state."
      ]
    },
    {
      "cell_type": "code",
      "execution_count": null,
      "metadata": {
        "id": "KjppKPRDZQv4"
      },
      "outputs": [],
      "source": [
        "# Define the function that determines whether to continue or not\n",
        "def should_continue(state: GraphState):\n",
        "    messages = state[\"messages\"]\n",
        "    last_message = messages[-1]\n",
        "    if last_message.tool_calls:\n",
        "        return \"tools\"\n",
        "    return END"
      ]
    },
    {
      "cell_type": "markdown",
      "metadata": {
        "id": "ZbyJRNRvZQv4"
      },
      "source": [
        "### Calling the Model\n",
        "The `call_model` function interacts with the Language Model (LLM) to generate a response based on the current state of the conversation. It takes the updated state as input, processes it and returns a model-generated response."
      ]
    },
    {
      "cell_type": "code",
      "execution_count": null,
      "metadata": {
        "id": "ZYflc7eZZQv4"
      },
      "outputs": [],
      "source": [
        "# Define the function that calls the model\n",
        "def call_model(state: GraphState):\n",
        "    messages = state[\"messages\"]\n",
        "    response = llm_with_tools.invoke(messages)\n",
        "    return {\"messages\": [response]}"
      ]
    },
    {
      "cell_type": "markdown",
      "metadata": {
        "id": "VzxIHVa2ZQv4"
      },
      "source": [
        "### Creating the Assistant Node\n",
        "The `assistant` node is a key component responsible for processing the current state of the conversation and using the Language Model (LLM) to generate a relevant response. It evaluates the state, determines the appropriate course of action, and invokes the LLM to produce a response that aligns with the ongoing dialogue."
      ]
    },
    {
      "cell_type": "code",
      "execution_count": null,
      "metadata": {
        "id": "_fPD6W2SZQv4"
      },
      "outputs": [],
      "source": [
        "# Node\n",
        "def assistant(state: GraphState):\n",
        "    response = llm_with_tools.invoke(state[\"messages\"])\n",
        "    return {\"messages\": [response]}"
      ]
    },
    {
      "cell_type": "markdown",
      "metadata": {
        "id": "Vc3No3agZQv5"
      },
      "source": [
        "### Creating the Tool Node\n",
        "The `tool_node` is responsible for managing interactions with external tools, such as fetching stock prices or performing other actions beyond the LLM's native capabilities. The tools themselves are defined earlier in the code, and the tool_node invokes these tools based on the current state and the needs of the conversation."
      ]
    },
    {
      "cell_type": "code",
      "execution_count": null,
      "metadata": {
        "id": "vz2qlceBZQv5"
      },
      "outputs": [],
      "source": [
        "from langgraph.prebuilt import ToolNode\n",
        "\n",
        "# Node\n",
        "tools = [get_stock_price, calculate_percentage]\n",
        "tool_node = ToolNode(tools)"
      ]
    },
    {
      "cell_type": "markdown",
      "metadata": {
        "id": "M2FWZfGFZQv5"
      },
      "source": [
        "### Building the Graph\n",
        "The graph structure is the backbone of the agentic workflow, consisting of interconnected nodes and edges. To construct this graph, we use the StateGraph builder which allows us to define and connect various nodes. Each node represents a step in the process (e.g., the assistant node, tool node) and the edges dictate the flow of execution between these steps."
      ]
    },
    {
      "cell_type": "code",
      "execution_count": null,
      "metadata": {
        "colab": {
          "base_uri": "https://localhost:8080/",
          "height": 266
        },
        "id": "FeGI8G3KZQv5",
        "outputId": "e60f6823-e5ef-4fe2-892f-7b29683f6fd4"
      },
      "outputs": [
        {
          "output_type": "display_data",
          "data": {
            "image/png": "[encoded data removed]",
            "text/plain": [
              "<IPython.core.display.Image object>"
            ]
          },
          "metadata": {}
        }
      ],
      "source": [
        "from langgraph.graph import START, StateGraph\n",
        "from IPython.display import Image, display\n",
        "\n",
        "# Define a new graph for the agent\n",
        "builder = StateGraph(GraphState)\n",
        "\n",
        "# Define the two nodes we will cycle between\n",
        "builder.add_node(\"assistant\", assistant)\n",
        "builder.add_node(\"tools\", tool_node)\n",
        "\n",
        "# Set the entrypoint as `agent`\n",
        "builder.add_edge(START, \"assistant\")\n",
        "\n",
        "# Making a conditional edge\n",
        "# should_continue will determine which node is called next.\n",
        "builder.add_conditional_edges(\"assistant\", should_continue, [\"tools\", END])\n",
        "\n",
        "# Making a normal edge from `tools` to `agent`.\n",
        "# The `agent` node will be called after the `tool`.\n",
        "builder.add_edge(\"tools\", \"assistant\")\n",
        "\n",
        "# Compile and display the graph for a visual overview\n",
        "react_graph = builder.compile()\n",
        "display(Image(react_graph.get_graph(xray=True).draw_mermaid_png()))"
      ]
    },
    {
      "cell_type": "markdown",
      "metadata": {
        "id": "wlNB4fI4ZQv5"
      },
      "source": [
        "To test our setup, we will run the agent with a query. The agent will fetch the stock price of Apple company using the Alpha API key."
      ]
    },
    {
      "cell_type": "code",
      "execution_count": null,
      "metadata": {
        "id": "rzt0I-n2ZQv5"
      },
      "outputs": [],
      "source": [
        "from langchain_core.messages import HumanMessage, SystemMessage\n",
        "\n",
        "messages = [\n",
        "    HumanMessage(\n",
        "        content=\"What is the current stock price of Apple?\"\n",
        "    )\n",
        "]\n",
        "\n",
        "result = react_graph.invoke({\"messages\": messages})"
      ]
    },
    {
      "cell_type": "code",
      "execution_count": null,
      "metadata": {
        "colab": {
          "base_uri": "https://localhost:8080/"
        },
        "id": "esoHsop8ZQv5",
        "outputId": "eb207a45-c918-4bd6-a383-4665fc5a2b1d"
      },
      "outputs": [
        {
          "output_type": "execute_result",
          "data": {
            "text/plain": [
              "[HumanMessage(content='What is the current stock price of Apple?', additional_kwargs={}, response_metadata={}, id='705aff3e-ad1b-43db-b317-5a9620722b9e'),\n",
              " AIMessage(content='', additional_kwargs={'tool_calls': [{'id': 'call_5rXSWEHSYI9qlBl9WDmTVvyu', 'function': {'arguments': '{\"ticker\":\"AAPL\"}', 'name': 'get_stock_price'}, 'type': 'function'}], 'refusal': None}, response_metadata={'token_usage': {'completion_tokens': 16, 'prompt_tokens': 159, 'total_tokens': 175, 'completion_tokens_details': {'accepted_prediction_tokens': 0, 'audio_tokens': 0, 'reasoning_tokens': 0, 'rejected_prediction_tokens': 0}, 'prompt_tokens_details': {'audio_tokens': 0, 'cached_tokens': 0}}, 'model_name': 'gpt-4o-mini-2024-07-18', 'system_fingerprint': 'fp_b705f0c291', 'prompt_filter_results': [{'prompt_index': 0, 'content_filter_results': {'hate': {'filtered': False, 'severity': 'safe'}, 'jailbreak': {'filtered': False, 'detected': False}, 'self_harm': {'filtered': False, 'severity': 'safe'}, 'sexual': {'filtered': False, 'severity': 'safe'}, 'violence': {'filtered': False, 'severity': 'safe'}}}], 'finish_reason': 'tool_calls', 'logprobs': None, 'content_filter_results': {}}, id='run-4ad48e46-c816-4c58-9e9a-d8d9992b3960-0', tool_calls=[{'name': 'get_stock_price', 'args': {'ticker': 'AAPL'}, 'id': 'call_5rXSWEHSYI9qlBl9WDmTVvyu', 'type': 'tool_call'}], usage_metadata={'input_tokens': 159, 'output_tokens': 16, 'total_tokens': 175, 'input_token_details': {'audio': 0, 'cache_read': 0}, 'output_token_details': {'audio': 0, 'reasoning': 0}}),\n",
              " ToolMessage(content='                         open      high       low     close    volume\\n2025-03-05 19:30:00  236.2200  236.2300  235.5000  235.7823      5520\\n2025-03-05 19:00:00  235.7400  236.3900  235.7000  236.1100      5731\\n2025-03-05 18:30:00  236.3700  236.3700  235.7000  235.7000     10454\\n2025-03-05 18:00:00  236.1200  236.4100  236.0000  236.3700     17208\\n2025-03-05 17:30:00  236.0699  236.3600  235.7400  236.1500     36303\\n2025-03-05 17:00:00  236.0300  236.3200  236.0000  236.0300     19014\\n2025-03-05 16:30:00  235.9000  250.5416  235.4065  236.0500    146315\\n2025-03-05 16:00:00  235.7700  236.0000  234.0676  235.8700  15664371\\n2025-03-05 15:30:00  236.0100  236.3900  235.0600  235.8200   3876091\\n2025-03-05 15:00:00  235.4700  236.4800  235.2100  236.0400   1850150\\n2025-03-05 14:30:00  235.7700  236.1900  235.1500  235.4900   1253598\\n2025-03-05 14:00:00  235.8350  236.5500  235.4000  235.7475   1454771\\n2025-03-05 13:30:00  234.6653  235.8500  234.1000  235.8200   1382332\\n2025-03-05 13:00:00  234.9450  235.5400  231.2400  234.6800   1824256\\n2025-03-05 12:30:00  234.5400  235.4000  234.0000  234.9450   2063877\\n2025-03-05 12:00:00  232.2000  234.6600  232.1400  234.5399   2402592\\n2025-03-05 11:30:00  230.6200  232.4500  229.2300  232.2000   3428216\\n2025-03-05 11:00:00  232.5650  232.6300  230.1400  230.6490   2504120\\n2025-03-05 10:30:00  230.9400  233.2000  230.8000  232.5700   2253138\\n2025-03-05 10:00:00  231.8300  233.2500  230.5200  230.9200   4472384\\n2025-03-05 09:30:00  235.4200  235.9500  231.0400  231.7700   6269642\\n2025-03-05 09:00:00  236.3493  236.7000  235.2005  235.4300    130129\\n2025-03-05 08:30:00  236.3445  239.7300  235.9300  236.2820    328752\\n2025-03-05 08:00:00  236.4900  237.8000  235.9300  236.4300    101057\\n2025-03-05 07:30:00  236.8000  236.8500  236.3700  236.4200      9803\\n2025-03-05 07:00:00  236.7100  236.9800  236.2300  236.7900     11818\\n2025-03-05 06:30:00  236.9400  237.0800  236.1500  236.6200     17541\\n2025-03-05 06:00:00  236.9900  236.9900  236.6700  236.9700      4021\\n2025-03-05 05:30:00  237.0200  237.2900  236.9200  236.9900      5797\\n2025-03-05 05:00:00  237.5600  237.6500  236.9000  237.0000     15551\\n2025-03-05 04:30:00  237.3500  237.6500  237.2700  237.5400     11461\\n2025-03-05 04:00:00  237.9200  237.9200  236.8900  237.3000     18125', name='get_stock_price', id='bc112069-2602-4f4a-b1fe-9eaaf1f607c9', tool_call_id='call_5rXSWEHSYI9qlBl9WDmTVvyu'),\n",
              " AIMessage(content='The current stock price of Apple (AAPL) is approximately $235.78.', additional_kwargs={'refusal': None}, response_metadata={'token_usage': {'completion_tokens': 18, 'prompt_tokens': 1520, 'total_tokens': 1538, 'completion_tokens_details': {'accepted_prediction_tokens': 0, 'audio_tokens': 0, 'reasoning_tokens': 0, 'rejected_prediction_tokens': 0}, 'prompt_tokens_details': {'audio_tokens': 0, 'cached_tokens': 0}}, 'model_name': 'gpt-4o-mini-2024-07-18', 'system_fingerprint': 'fp_b705f0c291', 'prompt_filter_results': [{'prompt_index': 0, 'content_filter_results': {'hate': {'filtered': False, 'severity': 'safe'}, 'jailbreak': {'filtered': False, 'detected': False}, 'self_harm': {'filtered': False, 'severity': 'safe'}, 'sexual': {'filtered': False, 'severity': 'safe'}, 'violence': {'filtered': False, 'severity': 'safe'}}}], 'finish_reason': 'stop', 'logprobs': None, 'content_filter_results': {'hate': {'filtered': False, 'severity': 'safe'}, 'self_harm': {'filtered': False, 'severity': 'safe'}, 'sexual': {'filtered': False, 'severity': 'safe'}, 'violence': {'filtered': False, 'severity': 'safe'}}}, id='run-c32d2152-626b-44a9-8f73-24654e2c4e33-0', usage_metadata={'input_tokens': 1520, 'output_tokens': 18, 'total_tokens': 1538, 'input_token_details': {'audio': 0, 'cache_read': 0}, 'output_token_details': {'audio': 0, 'reasoning': 0}})]"
            ]
          },
          "metadata": {},
          "execution_count": 57
        }
      ],
      "source": [
        "result[\"messages\"]"
      ]
    },
    {
      "cell_type": "code",
      "source": [
        "from langchain_core.messages import HumanMessage, SystemMessage\n",
        "\n",
        "messages = [\n",
        "    HumanMessage(\n",
        "        content=\"Can you tell me what is 25 percent of current stock price of Apple?\"\n",
        "    )\n",
        "]\n",
        "\n",
        "result = react_graph.invoke({\"messages\": messages})"
      ],
      "metadata": {
        "id": "sHYe_5H2WJWK"
      },
      "execution_count": null,
      "outputs": []
    },
    {
      "cell_type": "code",
      "source": [
        "result[\"messages\"]"
      ],
      "metadata": {
        "colab": {
          "base_uri": "https://localhost:8080/"
        },
        "id": "xYEqgJIlWV7q",
        "outputId": "3ae6368f-7e44-4eb7-a48f-fc612d2ea4a5"
      },
      "execution_count": null,
      "outputs": [
        {
          "output_type": "execute_result",
          "data": {
            "text/plain": [
              "[HumanMessage(content='Can you tell me what is 25 percent of current stock price of Apple?', additional_kwargs={}, response_metadata={}, id='8184e7fe-a31e-40a0-8a4c-89f7f6111643'),\n",
              " AIMessage(content='', additional_kwargs={'tool_calls': [{'id': 'call_floLklDUGWcJvCqrjytUea9v', 'function': {'arguments': '{\"ticker\":\"AAPL\"}', 'name': 'get_stock_price'}, 'type': 'function'}], 'refusal': None}, response_metadata={'token_usage': {'completion_tokens': 16, 'prompt_tokens': 166, 'total_tokens': 182, 'completion_tokens_details': {'accepted_prediction_tokens': 0, 'audio_tokens': 0, 'reasoning_tokens': 0, 'rejected_prediction_tokens': 0}, 'prompt_tokens_details': {'audio_tokens': 0, 'cached_tokens': 0}}, 'model_name': 'gpt-4o-mini-2024-07-18', 'system_fingerprint': 'fp_b705f0c291', 'prompt_filter_results': [{'prompt_index': 0, 'content_filter_results': {'hate': {'filtered': False, 'severity': 'safe'}, 'jailbreak': {'filtered': False, 'detected': False}, 'self_harm': {'filtered': False, 'severity': 'safe'}, 'sexual': {'filtered': False, 'severity': 'safe'}, 'violence': {'filtered': False, 'severity': 'safe'}}}], 'finish_reason': 'tool_calls', 'logprobs': None, 'content_filter_results': {}}, id='run-355a5fc9-93c0-4e43-a2ef-0df16194d007-0', tool_calls=[{'name': 'get_stock_price', 'args': {'ticker': 'AAPL'}, 'id': 'call_floLklDUGWcJvCqrjytUea9v', 'type': 'tool_call'}], usage_metadata={'input_tokens': 166, 'output_tokens': 16, 'total_tokens': 182, 'input_token_details': {'audio': 0, 'cache_read': 0}, 'output_token_details': {'audio': 0, 'reasoning': 0}}),\n",
              " ToolMessage(content='                         open      high       low     close    volume\\n2025-03-05 19:30:00  236.2200  236.2300  235.5000  235.7823      5520\\n2025-03-05 19:00:00  235.7400  236.3900  235.7000  236.1100      5731\\n2025-03-05 18:30:00  236.3700  236.3700  235.7000  235.7000     10454\\n2025-03-05 18:00:00  236.1200  236.4100  236.0000  236.3700     17208\\n2025-03-05 17:30:00  236.0699  236.3600  235.7400  236.1500     36303\\n2025-03-05 17:00:00  236.0300  236.3200  236.0000  236.0300     19014\\n2025-03-05 16:30:00  235.9000  250.5416  235.4065  236.0500    146315\\n2025-03-05 16:00:00  235.7700  236.0000  234.0676  235.8700  15664371\\n2025-03-05 15:30:00  236.0100  236.3900  235.0600  235.8200   3876091\\n2025-03-05 15:00:00  235.4700  236.4800  235.2100  236.0400   1850150\\n2025-03-05 14:30:00  235.7700  236.1900  235.1500  235.4900   1253598\\n2025-03-05 14:00:00  235.8350  236.5500  235.4000  235.7475   1454771\\n2025-03-05 13:30:00  234.6653  235.8500  234.1000  235.8200   1382332\\n2025-03-05 13:00:00  234.9450  235.5400  231.2400  234.6800   1824256\\n2025-03-05 12:30:00  234.5400  235.4000  234.0000  234.9450   2063877\\n2025-03-05 12:00:00  232.2000  234.6600  232.1400  234.5399   2402592\\n2025-03-05 11:30:00  230.6200  232.4500  229.2300  232.2000   3428216\\n2025-03-05 11:00:00  232.5650  232.6300  230.1400  230.6490   2504120\\n2025-03-05 10:30:00  230.9400  233.2000  230.8000  232.5700   2253138\\n2025-03-05 10:00:00  231.8300  233.2500  230.5200  230.9200   4472384\\n2025-03-05 09:30:00  235.4200  235.9500  231.0400  231.7700   6269642\\n2025-03-05 09:00:00  236.3493  236.7000  235.2005  235.4300    130129\\n2025-03-05 08:30:00  236.3445  239.7300  235.9300  236.2820    328752\\n2025-03-05 08:00:00  236.4900  237.8000  235.9300  236.4300    101057\\n2025-03-05 07:30:00  236.8000  236.8500  236.3700  236.4200      9803\\n2025-03-05 07:00:00  236.7100  236.9800  236.2300  236.7900     11818\\n2025-03-05 06:30:00  236.9400  237.0800  236.1500  236.6200     17541\\n2025-03-05 06:00:00  236.9900  236.9900  236.6700  236.9700      4021\\n2025-03-05 05:30:00  237.0200  237.2900  236.9200  236.9900      5797\\n2025-03-05 05:00:00  237.5600  237.6500  236.9000  237.0000     15551\\n2025-03-05 04:30:00  237.3500  237.6500  237.2700  237.5400     11461\\n2025-03-05 04:00:00  237.9200  237.9200  236.8900  237.3000     18125', name='get_stock_price', id='0422de48-18f6-46e9-9016-42d0ad46c7c2', tool_call_id='call_floLklDUGWcJvCqrjytUea9v'),\n",
              " AIMessage(content='', additional_kwargs={'tool_calls': [{'id': 'call_y1XAeZITCvNxTnwDxQjEpOdh', 'function': {'arguments': '{\"stock_price\":235.7823,\"percentage\":25}', 'name': 'calculate_percentage'}, 'type': 'function'}], 'refusal': None}, response_metadata={'token_usage': {'completion_tokens': 22, 'prompt_tokens': 1527, 'total_tokens': 1549, 'completion_tokens_details': {'accepted_prediction_tokens': 0, 'audio_tokens': 0, 'reasoning_tokens': 0, 'rejected_prediction_tokens': 0}, 'prompt_tokens_details': {'audio_tokens': 0, 'cached_tokens': 0}}, 'model_name': 'gpt-4o-mini-2024-07-18', 'system_fingerprint': 'fp_b705f0c291', 'prompt_filter_results': [{'prompt_index': 0, 'content_filter_results': {'hate': {'filtered': False, 'severity': 'safe'}, 'jailbreak': {'filtered': False, 'detected': False}, 'self_harm': {'filtered': False, 'severity': 'safe'}, 'sexual': {'filtered': False, 'severity': 'safe'}, 'violence': {'filtered': False, 'severity': 'safe'}}}], 'finish_reason': 'tool_calls', 'logprobs': None, 'content_filter_results': {}}, id='run-b8a6861e-c837-49b1-b497-41a5f11ff355-0', tool_calls=[{'name': 'calculate_percentage', 'args': {'stock_price': 235.7823, 'percentage': 25}, 'id': 'call_y1XAeZITCvNxTnwDxQjEpOdh', 'type': 'tool_call'}], usage_metadata={'input_tokens': 1527, 'output_tokens': 22, 'total_tokens': 1549, 'input_token_details': {'audio': 0, 'cache_read': 0}, 'output_token_details': {'audio': 0, 'reasoning': 0}}),\n",
              " ToolMessage(content='58.945575', name='calculate_percentage', id='3f867f62-e486-4323-a61f-3b1ad505310d', tool_call_id='call_y1XAeZITCvNxTnwDxQjEpOdh'),\n",
              " AIMessage(content='25 percent of the current stock price of Apple (which is $235.78) is approximately $58.95.', additional_kwargs={'refusal': None}, response_metadata={'token_usage': {'completion_tokens': 25, 'prompt_tokens': 1561, 'total_tokens': 1586, 'completion_tokens_details': {'accepted_prediction_tokens': 0, 'audio_tokens': 0, 'reasoning_tokens': 0, 'rejected_prediction_tokens': 0}, 'prompt_tokens_details': {'audio_tokens': 0, 'cached_tokens': 0}}, 'model_name': 'gpt-4o-mini-2024-07-18', 'system_fingerprint': 'fp_b705f0c291', 'prompt_filter_results': [{'prompt_index': 0, 'content_filter_results': {'hate': {'filtered': False, 'severity': 'safe'}, 'jailbreak': {'filtered': False, 'detected': False}, 'self_harm': {'filtered': False, 'severity': 'safe'}, 'sexual': {'filtered': False, 'severity': 'safe'}, 'violence': {'filtered': False, 'severity': 'safe'}}}], 'finish_reason': 'stop', 'logprobs': None, 'content_filter_results': {'hate': {'filtered': False, 'severity': 'safe'}, 'self_harm': {'filtered': False, 'severity': 'safe'}, 'sexual': {'filtered': False, 'severity': 'safe'}, 'violence': {'filtered': False, 'severity': 'safe'}}}, id='run-53a691bc-f8be-4974-8f96-aef02622583e-0', usage_metadata={'input_tokens': 1561, 'output_tokens': 25, 'total_tokens': 1586, 'input_token_details': {'audio': 0, 'cache_read': 0}, 'output_token_details': {'audio': 0, 'reasoning': 0}})]"
            ]
          },
          "metadata": {},
          "execution_count": 59
        }
      ]
    },
    {
      "cell_type": "markdown",
      "metadata": {
        "id": "wsK_VEDSZQv6"
      },
      "source": [
        "### Converting Messages to Ragas Evaluation Format\n",
        "\n",
        "In the current implementation, the GraphState stores messages exchanged between the human user, the AI (LLM's responses), and any external tools (APIs or services the AI uses) in a list. Each message is an object in LangChain's format\n",
        "\n",
        "```python\n",
        "# Implementation of Graph State\n",
        "class GraphState(TypedDict):\n",
        "    messages: Annotated[list[AnyMessage], add_messages]\n",
        "```\n",
        "\n",
        "Each time a message is exchanged during agent execution, it gets added to the messages list in the GraphState. However, Ragas requires a specific message format for evaluating interactions.\n",
        "\n",
        "Ragas uses its own format to evaluate agent interactions. So, if you're using LangGraph, you will need to convert the LangChain message objects into Ragas message objects. This allows you to evaluate your AI agents with Ragas’ built-in evaluation tools.\n",
        "\n",
        "**Goal:**  Convert the list of LangChain messages (e.g., HumanMessage, AIMessage, and ToolMessage) into the format expected by Ragas, so the evaluation framework can understand and process them properly."
      ]
    },
    {
      "cell_type": "markdown",
      "metadata": {
        "id": "edpIDCgi6hkx"
      },
      "source": [
        "To convert a list of LangChain messages into a format suitable for Ragas evaluation, Ragas provides the function [convert_to_ragas_messages][ragas.integrations.langgraph.convert_to_ragas_messages], which can be used to transform LangChain messages into the format expected by Ragas.\n",
        "\n",
        "Here's how you can use the function:"
      ]
    },
    {
      "cell_type": "code",
      "execution_count": null,
      "metadata": {
        "id": "oGX9bx286hkx"
      },
      "outputs": [],
      "source": [
        "from ragas.integrations.langgraph import convert_to_ragas_messages\n",
        "\n",
        "# Assuming 'result[\"messages\"]' contains the list of LangChain messages\n",
        "ragas_trace = convert_to_ragas_messages(result[\"messages\"])"
      ]
    },
    {
      "cell_type": "code",
      "execution_count": null,
      "metadata": {
        "id": "Udcg7kCH6hkx",
        "outputId": "04763bf8-53bd-4c20-e628-ea7e568a4676",
        "colab": {
          "base_uri": "https://localhost:8080/"
        }
      },
      "outputs": [
        {
          "output_type": "execute_result",
          "data": {
            "text/plain": [
              "[HumanMessage(content='Can you tell me what is 25 percent of current stock price of Apple?', metadata=None, type='human'),\n",
              " AIMessage(content='', metadata=None, type='ai', tool_calls=[ToolCall(name='get_stock_price', args={'ticker': 'AAPL'})]),\n",
              " ToolMessage(content='                         open      high       low     close    volume\\n2025-03-05 19:30:00  236.2200  236.2300  235.5000  235.7823      5520\\n2025-03-05 19:00:00  235.7400  236.3900  235.7000  236.1100      5731\\n2025-03-05 18:30:00  236.3700  236.3700  235.7000  235.7000     10454\\n2025-03-05 18:00:00  236.1200  236.4100  236.0000  236.3700     17208\\n2025-03-05 17:30:00  236.0699  236.3600  235.7400  236.1500     36303\\n2025-03-05 17:00:00  236.0300  236.3200  236.0000  236.0300     19014\\n2025-03-05 16:30:00  235.9000  250.5416  235.4065  236.0500    146315\\n2025-03-05 16:00:00  235.7700  236.0000  234.0676  235.8700  15664371\\n2025-03-05 15:30:00  236.0100  236.3900  235.0600  235.8200   3876091\\n2025-03-05 15:00:00  235.4700  236.4800  235.2100  236.0400   1850150\\n2025-03-05 14:30:00  235.7700  236.1900  235.1500  235.4900   1253598\\n2025-03-05 14:00:00  235.8350  236.5500  235.4000  235.7475   1454771\\n2025-03-05 13:30:00  234.6653  235.8500  234.1000  235.8200   1382332\\n2025-03-05 13:00:00  234.9450  235.5400  231.2400  234.6800   1824256\\n2025-03-05 12:30:00  234.5400  235.4000  234.0000  234.9450   2063877\\n2025-03-05 12:00:00  232.2000  234.6600  232.1400  234.5399   2402592\\n2025-03-05 11:30:00  230.6200  232.4500  229.2300  232.2000   3428216\\n2025-03-05 11:00:00  232.5650  232.6300  230.1400  230.6490   2504120\\n2025-03-05 10:30:00  230.9400  233.2000  230.8000  232.5700   2253138\\n2025-03-05 10:00:00  231.8300  233.2500  230.5200  230.9200   4472384\\n2025-03-05 09:30:00  235.4200  235.9500  231.0400  231.7700   6269642\\n2025-03-05 09:00:00  236.3493  236.7000  235.2005  235.4300    130129\\n2025-03-05 08:30:00  236.3445  239.7300  235.9300  236.2820    328752\\n2025-03-05 08:00:00  236.4900  237.8000  235.9300  236.4300    101057\\n2025-03-05 07:30:00  236.8000  236.8500  236.3700  236.4200      9803\\n2025-03-05 07:00:00  236.7100  236.9800  236.2300  236.7900     11818\\n2025-03-05 06:30:00  236.9400  237.0800  236.1500  236.6200     17541\\n2025-03-05 06:00:00  236.9900  236.9900  236.6700  236.9700      4021\\n2025-03-05 05:30:00  237.0200  237.2900  236.9200  236.9900      5797\\n2025-03-05 05:00:00  237.5600  237.6500  236.9000  237.0000     15551\\n2025-03-05 04:30:00  237.3500  237.6500  237.2700  237.5400     11461\\n2025-03-05 04:00:00  237.9200  237.9200  236.8900  237.3000     18125', metadata=None, type='tool'),\n",
              " AIMessage(content='', metadata=None, type='ai', tool_calls=[ToolCall(name='calculate_percentage', args={'stock_price': 235.7823, 'percentage': 25})]),\n",
              " ToolMessage(content='58.945575', metadata=None, type='tool'),\n",
              " AIMessage(content='25 percent of the current stock price of Apple (which is $235.78) is approximately $58.95.', metadata=None, type='ai', tool_calls=[])]"
            ]
          },
          "metadata": {},
          "execution_count": 61
        }
      ],
      "source": [
        "ragas_trace  # List of Ragas messages"
      ]
    },
    {
      "cell_type": "markdown",
      "metadata": {
        "id": "n5mbTp5aZQv6"
      },
      "source": [
        "## Evaluating the Agent's Performance"
      ]
    },
    {
      "cell_type": "markdown",
      "metadata": {
        "id": "H885v5sxZQv6"
      },
      "source": [
        "For this tutorial, let us evaluate the Agent with the following metrics:\n",
        "\n",
        "- [Tool call Accuracy](https://docs.ragas.io/en/stable/concepts/metrics/available_metrics/agents/#tool-call-accuracy):ToolCallAccuracy is a metric that can be used to evaluate the performance of the LLM in identifying and calling the required tools to complete a given task.  \n",
        "\n",
        "- [Agent Goal accuracy](https://docs.ragas.io/en/stable/concepts/metrics/available_metrics/agents/#agent-goal-accuracy): Agent goal accuracy is a metric that can be used to evaluate the performance of the LLM in identifying and achieving the goals of the user. This is a binary metric, with 1 indicating that the AI has achieved the goal and 0 indicating that the AI has not achieved the goal.\n",
        "- [Topic Adherence](https://docs.ragas.io/en/stable/concepts/metrics/available_metrics/agents/): Topic adherence is a metric that can be used to ensure the Agent system is staying \"on-topic\", meaning that it's not straying from the intended use case. You can think of this as a kinda of faithfulness, where the responses of the LLM should stay faithful to the topic provided.\n",
        "\n",
        "\n",
        "First, let us actually run our Agent with a couple of queries, and make sure we have the ground truth labels for these queries."
      ]
    },
    {
      "cell_type": "markdown",
      "metadata": {
        "id": "7kRRIyTAZQv6"
      },
      "source": [
        "### Tool Call Accuracy"
      ]
    },
    {
      "cell_type": "code",
      "execution_count": null,
      "metadata": {
        "colab": {
          "base_uri": "https://localhost:8080/"
        },
        "id": "CC973Yq1ZQv6",
        "outputId": "7c19e14a-b7ea-472e-fb4e-29803aec5483"
      },
      "outputs": [
        {
          "output_type": "execute_result",
          "data": {
            "text/plain": [
              "1.0"
            ]
          },
          "metadata": {},
          "execution_count": 64
        }
      ],
      "source": [
        "from ragas.metrics import ToolCallAccuracy\n",
        "from ragas.dataset_schema import MultiTurnSample\n",
        "from ragas.integrations.langgraph import convert_to_ragas_messages\n",
        "import ragas.messages as r\n",
        "\n",
        "\n",
        "ragas_trace = convert_to_ragas_messages(\n",
        "    messages=result[\"messages\"]\n",
        ")  # List of Ragas messages converted using the Ragas function\n",
        "\n",
        "sample = MultiTurnSample(\n",
        "    user_input=ragas_trace,\n",
        "    reference_tool_calls=[\n",
        "        r.ToolCall(name=\"get_stock_price\", args={\"ticker\": \"AAPL\"}),\n",
        "        r.ToolCall(name=\"calculate_percentage\", args={\"percentage\": \"25\"})\n",
        "    ],\n",
        ")\n",
        "\n",
        "tool_accuracy_scorer = ToolCallAccuracy()\n",
        "tool_accuracy_scorer.llm = llm\n",
        "await tool_accuracy_scorer.multi_turn_ascore(sample)"
      ]
    },
    {
      "cell_type": "markdown",
      "metadata": {
        "id": "S14jlVw06hkx"
      },
      "source": [
        "Tool Call Accuracy: 1, because the LLM correctly identified and used the necessary tool (get_stock_price) with the correct parameters (i.e., ticker as \"AAPL\")."
      ]
    },
    {
      "cell_type": "markdown",
      "metadata": {
        "id": "rGOL1CBsZQv6"
      },
      "source": [
        "### Agent Goal Accuracy"
      ]
    },
    {
      "cell_type": "code",
      "execution_count": null,
      "metadata": {
        "id": "FA0kMvTfZQwB"
      },
      "outputs": [],
      "source": [
        "from langchain_core.messages import HumanMessage, SystemMessage\n",
        "\n",
        "messages = [\n",
        "    SystemMessage(\n",
        "        content=\"You are a stock price assistant. Fetch the company ticker and get stock details for the user.\"\n",
        "    ),\n",
        "    HumanMessage(\n",
        "        content=\"What is the current stock price of Nvidia?\"\n",
        "    )\n",
        "]\n",
        "\n",
        "result = react_graph.invoke({\"messages\": messages})"
      ]
    },
    {
      "cell_type": "code",
      "execution_count": null,
      "metadata": {
        "colab": {
          "base_uri": "https://localhost:8080/"
        },
        "id": "YJr4Hxn8ZQwB",
        "outputId": "ca2ccbcc-f5a8-44c4-ccc2-8d0619d950fb"
      },
      "outputs": [
        {
          "output_type": "execute_result",
          "data": {
            "text/plain": [
              "[SystemMessage(content='You are a stock price assistant. Fetch the company ticker and get stock details for the user.', additional_kwargs={}, response_metadata={}, id='a5840cb8-94b5-4d0b-9a67-0c42d0d96902'),\n",
              " HumanMessage(content='What is the current stock price of Nvidia?', additional_kwargs={}, response_metadata={}, id='c14cdb04-a233-416a-ab6f-8c94a355b7ef'),\n",
              " AIMessage(content='', additional_kwargs={'tool_calls': [{'id': 'call_wvQ7eaZhhCpO6ZBtPHfpt5Kc', 'function': {'arguments': '{\"ticker\":\"NVDA\"}', 'name': 'get_stock_price'}, 'type': 'function'}], 'refusal': None}, response_metadata={'token_usage': {'completion_tokens': 16, 'prompt_tokens': 115, 'total_tokens': 131, 'completion_tokens_details': {'accepted_prediction_tokens': 0, 'audio_tokens': 0, 'reasoning_tokens': 0, 'rejected_prediction_tokens': 0}, 'prompt_tokens_details': {'audio_tokens': 0, 'cached_tokens': 0}}, 'model_name': 'gpt-4o-mini-2024-07-18', 'system_fingerprint': 'fp_b705f0c291', 'prompt_filter_results': [{'prompt_index': 0, 'content_filter_results': {'hate': {'filtered': False, 'severity': 'safe'}, 'jailbreak': {'filtered': False, 'detected': False}, 'self_harm': {'filtered': False, 'severity': 'safe'}, 'sexual': {'filtered': False, 'severity': 'safe'}, 'violence': {'filtered': False, 'severity': 'safe'}}}], 'finish_reason': 'tool_calls', 'logprobs': None, 'content_filter_results': {}}, id='run-cef35379-c2a4-4814-a2a4-9cfc10bc7181-0', tool_calls=[{'name': 'get_stock_price', 'args': {'ticker': 'NVDA'}, 'id': 'call_wvQ7eaZhhCpO6ZBtPHfpt5Kc', 'type': 'tool_call'}], usage_metadata={'input_tokens': 115, 'output_tokens': 16, 'total_tokens': 131, 'input_token_details': {'audio': 0, 'cache_read': 0}, 'output_token_details': {'audio': 0, 'reasoning': 0}}),\n",
              " ToolMessage(content='                         open      high       low     close    volume\\n2025-03-05 19:30:00  116.7700  116.8200  116.5000  116.5199    217187\\n2025-03-05 19:00:00  116.6900  116.7900  116.6200  116.7800    151851\\n2025-03-05 18:30:00  116.8200  116.8900  116.6400  116.6500    182270\\n2025-03-05 18:00:00  116.7800  116.9300  116.6000  116.8300    224597\\n2025-03-05 17:30:00  116.8850  117.3000  116.7800  116.8000   2721199\\n2025-03-05 17:00:00  117.1991  117.2500  116.8300  116.9000    293319\\n2025-03-05 16:30:00  117.3600  124.3559  108.8867  117.1801   1636443\\n2025-03-05 16:00:00  117.2900  117.8500  114.8700  117.3799  45118075\\n2025-03-05 15:30:00  117.6400  118.2090  117.1200  117.3000  20813010\\n2025-03-05 15:00:00  117.5000  118.2781  116.7600  117.6500  15046215\\n2025-03-05 14:30:00  117.1100  117.9858  116.7300  117.5145  11149564\\n2025-03-05 14:00:00  117.3200  118.2300  116.8801  117.1098  14175521\\n2025-03-05 13:30:00  116.2700  117.4400  115.8200  117.3300  11828498\\n2025-03-05 13:00:00  117.7200  117.9100  115.7400  116.2700  15106886\\n2025-03-05 12:30:00  116.5600  117.9100  116.1600  117.7350  14555671\\n2025-03-05 12:00:00  115.8800  116.8200  115.4500  116.5631  13627588\\n2025-03-05 11:30:00  115.4000  116.4000  114.5200  115.8900  15415583\\n2025-03-05 11:00:00  115.9000  115.9100  114.5100  115.4099  21654614\\n2025-03-05 10:30:00  115.9700  116.8600  115.3850  115.9200  17538503\\n2025-03-05 10:00:00  115.1600  117.0000  114.7000  115.9700  27998120\\n2025-03-05 09:30:00  117.5800  118.0000  114.6400  115.1500  41467946\\n2025-03-05 09:00:00  116.6600  117.7800  116.1200  117.5600   1713777\\n2025-03-05 08:30:00  116.8400  117.3000  110.7200  116.6699   1115292\\n2025-03-05 08:00:00  117.7500  119.2400  115.9900  116.8300   2508049\\n2025-03-05 07:30:00  117.6700  118.0500  117.5600  117.7000    376161\\n2025-03-05 07:00:00  117.5600  118.1000  117.3900  117.6700    657275\\n2025-03-05 06:30:00  117.7300  118.2100  117.0800  117.5400    555353\\n2025-03-05 06:00:00  117.9300  118.0800  117.4400  117.7500    191343\\n2025-03-05 05:30:00  117.7200  118.2500  117.6100  117.9200    256079\\n2025-03-05 05:00:00  118.4800  118.5400  117.4500  117.7200    447432\\n2025-03-05 04:30:00  118.4600  118.8000  118.2700  118.4800    301434\\n2025-03-05 04:00:00  119.0000  119.1900  118.0200  118.4500    484262', name='get_stock_price', id='da7240ba-c5b0-4690-ad0a-1e209e264264', tool_call_id='call_wvQ7eaZhhCpO6ZBtPHfpt5Kc'),\n",
              " AIMessage(content='The current stock price of Nvidia (NVDA) is approximately **$116.52**.', additional_kwargs={'refusal': None}, response_metadata={'token_usage': {'completion_tokens': 20, 'prompt_tokens': 1481, 'total_tokens': 1501, 'completion_tokens_details': {'accepted_prediction_tokens': 0, 'audio_tokens': 0, 'reasoning_tokens': 0, 'rejected_prediction_tokens': 0}, 'prompt_tokens_details': {'audio_tokens': 0, 'cached_tokens': 0}}, 'model_name': 'gpt-4o-mini-2024-07-18', 'system_fingerprint': 'fp_b705f0c291', 'prompt_filter_results': [{'prompt_index': 0, 'content_filter_results': {'hate': {'filtered': False, 'severity': 'safe'}, 'jailbreak': {'filtered': False, 'detected': False}, 'self_harm': {'filtered': False, 'severity': 'safe'}, 'sexual': {'filtered': False, 'severity': 'safe'}, 'violence': {'filtered': False, 'severity': 'safe'}}}], 'finish_reason': 'stop', 'logprobs': None, 'content_filter_results': {'hate': {'filtered': False, 'severity': 'safe'}, 'self_harm': {'filtered': False, 'severity': 'safe'}, 'sexual': {'filtered': False, 'severity': 'safe'}, 'violence': {'filtered': False, 'severity': 'safe'}}}, id='run-9dc5146f-fa56-4a24-be66-ac39e3202dc0-0', usage_metadata={'input_tokens': 1481, 'output_tokens': 20, 'total_tokens': 1501, 'input_token_details': {'audio': 0, 'cache_read': 0}, 'output_token_details': {'audio': 0, 'reasoning': 0}})]"
            ]
          },
          "metadata": {},
          "execution_count": 38
        }
      ],
      "source": [
        "result[\"messages\"]  # List of Langchain messages"
      ]
    },
    {
      "cell_type": "code",
      "execution_count": null,
      "metadata": {
        "colab": {
          "base_uri": "https://localhost:8080/"
        },
        "id": "StDNqR2vZQwB",
        "outputId": "61afb1e5-1fbf-4ef2-af83-4ab03e8f2bd8"
      },
      "outputs": [
        {
          "output_type": "execute_result",
          "data": {
            "text/plain": [
              "[HumanMessage(content='What is the current stock price of Nvidia?', metadata=None, type='human'),\n",
              " AIMessage(content='', metadata=None, type='ai', tool_calls=[ToolCall(name='get_stock_price', args={'ticker': 'NVDA'})]),\n",
              " ToolMessage(content='                         open      high       low     close    volume\\n2025-03-05 19:30:00  116.7700  116.8200  116.5000  116.5199    217187\\n2025-03-05 19:00:00  116.6900  116.7900  116.6200  116.7800    151851\\n2025-03-05 18:30:00  116.8200  116.8900  116.6400  116.6500    182270\\n2025-03-05 18:00:00  116.7800  116.9300  116.6000  116.8300    224597\\n2025-03-05 17:30:00  116.8850  117.3000  116.7800  116.8000   2721199\\n2025-03-05 17:00:00  117.1991  117.2500  116.8300  116.9000    293319\\n2025-03-05 16:30:00  117.3600  124.3559  108.8867  117.1801   1636443\\n2025-03-05 16:00:00  117.2900  117.8500  114.8700  117.3799  45118075\\n2025-03-05 15:30:00  117.6400  118.2090  117.1200  117.3000  20813010\\n2025-03-05 15:00:00  117.5000  118.2781  116.7600  117.6500  15046215\\n2025-03-05 14:30:00  117.1100  117.9858  116.7300  117.5145  11149564\\n2025-03-05 14:00:00  117.3200  118.2300  116.8801  117.1098  14175521\\n2025-03-05 13:30:00  116.2700  117.4400  115.8200  117.3300  11828498\\n2025-03-05 13:00:00  117.7200  117.9100  115.7400  116.2700  15106886\\n2025-03-05 12:30:00  116.5600  117.9100  116.1600  117.7350  14555671\\n2025-03-05 12:00:00  115.8800  116.8200  115.4500  116.5631  13627588\\n2025-03-05 11:30:00  115.4000  116.4000  114.5200  115.8900  15415583\\n2025-03-05 11:00:00  115.9000  115.9100  114.5100  115.4099  21654614\\n2025-03-05 10:30:00  115.9700  116.8600  115.3850  115.9200  17538503\\n2025-03-05 10:00:00  115.1600  117.0000  114.7000  115.9700  27998120\\n2025-03-05 09:30:00  117.5800  118.0000  114.6400  115.1500  41467946\\n2025-03-05 09:00:00  116.6600  117.7800  116.1200  117.5600   1713777\\n2025-03-05 08:30:00  116.8400  117.3000  110.7200  116.6699   1115292\\n2025-03-05 08:00:00  117.7500  119.2400  115.9900  116.8300   2508049\\n2025-03-05 07:30:00  117.6700  118.0500  117.5600  117.7000    376161\\n2025-03-05 07:00:00  117.5600  118.1000  117.3900  117.6700    657275\\n2025-03-05 06:30:00  117.7300  118.2100  117.0800  117.5400    555353\\n2025-03-05 06:00:00  117.9300  118.0800  117.4400  117.7500    191343\\n2025-03-05 05:30:00  117.7200  118.2500  117.6100  117.9200    256079\\n2025-03-05 05:00:00  118.4800  118.5400  117.4500  117.7200    447432\\n2025-03-05 04:30:00  118.4600  118.8000  118.2700  118.4800    301434\\n2025-03-05 04:00:00  119.0000  119.1900  118.0200  118.4500    484262', metadata=None, type='tool'),\n",
              " AIMessage(content='The current stock price of Nvidia (NVDA) is approximately **$116.52**.', metadata=None, type='ai', tool_calls=[])]"
            ]
          },
          "metadata": {},
          "execution_count": 39
        }
      ],
      "source": [
        "from ragas.integrations.langgraph import convert_to_ragas_messages\n",
        "\n",
        "ragas_trace = convert_to_ragas_messages(\n",
        "    result[\"messages\"]\n",
        ")  # List of Ragas messages converted using the Ragas function\n",
        "ragas_trace"
      ]
    },
    {
      "cell_type": "code",
      "execution_count": null,
      "metadata": {
        "colab": {
          "base_uri": "https://localhost:8080/"
        },
        "id": "c6u9-RYdZQwB",
        "outputId": "b5d0ed3d-0693-4a09-963d-608382dd525a"
      },
      "outputs": [
        {
          "output_type": "execute_result",
          "data": {
            "text/plain": [
              "1.0"
            ]
          },
          "metadata": {},
          "execution_count": 40
        }
      ],
      "source": [
        "from ragas.dataset_schema import MultiTurnSample\n",
        "from ragas.metrics import AgentGoalAccuracyWithReference\n",
        "from ragas.llms import LangchainLLMWrapper\n",
        "\n",
        "\n",
        "sample = MultiTurnSample(\n",
        "    user_input=ragas_trace,\n",
        "    reference=\"current stock price of Nvidia\",\n",
        ")\n",
        "\n",
        "scorer = AgentGoalAccuracyWithReference()\n",
        "\n",
        "evaluator_llm = LangchainLLMWrapper(llm)\n",
        "scorer.llm = evaluator_llm\n",
        "await scorer.multi_turn_ascore(sample)"
      ]
    },
    {
      "cell_type": "markdown",
      "metadata": {
        "id": "K71VkA7o6hk0"
      },
      "source": [
        "Agent Goal Accuracy: 1, because the LLM correctly achieved the user’s goal of retrieving the stock price of Nvidia Company."
      ]
    },
    {
      "cell_type": "markdown",
      "source": [
        "### Topic Adherence\n",
        "\n"
      ],
      "metadata": {
        "id": "N0fKvUqpDQVK"
      }
    },
    {
      "cell_type": "code",
      "source": [
        "messages = [HumanMessage(content=\"How fast can an eagle fly?\")]\n",
        "\n",
        "result = react_graph.invoke({\"messages\": messages})"
      ],
      "metadata": {
        "id": "4ouIaXBNDZgc"
      },
      "execution_count": null,
      "outputs": []
    },
    {
      "cell_type": "code",
      "source": [
        "result[\"messages\"]"
      ],
      "metadata": {
        "colab": {
          "base_uri": "https://localhost:8080/"
        },
        "id": "OBRGGNb4DyBa",
        "outputId": "827514e6-63e5-4df4-bffb-5e08964193d9"
      },
      "execution_count": null,
      "outputs": [
        {
          "output_type": "execute_result",
          "data": {
            "text/plain": [
              "[HumanMessage(content='How fast can an eagle fly?', additional_kwargs={}, response_metadata={}, id='81234df5-411d-48a8-a056-fa3b4083dfa4'),\n",
              " AIMessage(content='Eagles are known for their impressive flying abilities. The speed of an eagle can vary depending on the species and the circumstances. Generally, eagles can fly at speeds ranging from 30 to 50 miles per hour (48 to 80 kilometers per hour) during level flight. However, when diving to catch prey, some eagles can reach speeds of over 100 miles per hour (160 kilometers per hour). The golden eagle, for example, is known for its remarkable diving speed.', additional_kwargs={'refusal': None}, response_metadata={'token_usage': {'completion_tokens': 99, 'prompt_tokens': 94, 'total_tokens': 193, 'completion_tokens_details': {'accepted_prediction_tokens': 0, 'audio_tokens': 0, 'reasoning_tokens': 0, 'rejected_prediction_tokens': 0}, 'prompt_tokens_details': {'audio_tokens': 0, 'cached_tokens': 0}}, 'model_name': 'gpt-4o-mini-2024-07-18', 'system_fingerprint': 'fp_b705f0c291', 'prompt_filter_results': [{'prompt_index': 0, 'content_filter_results': {'hate': {'filtered': False, 'severity': 'safe'}, 'jailbreak': {'filtered': False, 'detected': False}, 'self_harm': {'filtered': False, 'severity': 'safe'}, 'sexual': {'filtered': False, 'severity': 'safe'}, 'violence': {'filtered': False, 'severity': 'safe'}}}], 'finish_reason': 'stop', 'logprobs': None, 'content_filter_results': {'hate': {'filtered': False, 'severity': 'safe'}, 'protected_material_code': {'filtered': False, 'detected': False}, 'protected_material_text': {'filtered': False, 'detected': False}, 'self_harm': {'filtered': False, 'severity': 'safe'}, 'sexual': {'filtered': False, 'severity': 'safe'}, 'violence': {'filtered': False, 'severity': 'safe'}}}, id='run-3ee3aff5-b87a-4d71-b98b-6b6afa544a11-0', usage_metadata={'input_tokens': 94, 'output_tokens': 99, 'total_tokens': 193, 'input_token_details': {'audio': 0, 'cache_read': 0}, 'output_token_details': {'audio': 0, 'reasoning': 0}})]"
            ]
          },
          "metadata": {},
          "execution_count": 42
        }
      ]
    },
    {
      "cell_type": "code",
      "source": [
        "from ragas.integrations.langgraph import convert_to_ragas_messages\n",
        "\n",
        "ragas_trace = convert_to_ragas_messages(\n",
        "    result[\"messages\"]\n",
        ")  # List of Ragas messages converted using the Ragas function\n",
        "ragas_trace"
      ],
      "metadata": {
        "colab": {
          "base_uri": "https://localhost:8080/"
        },
        "id": "f3i7NIgjD8ec",
        "outputId": "9c8217a9-1b8c-4690-d838-b3e830d871b6"
      },
      "execution_count": null,
      "outputs": [
        {
          "output_type": "execute_result",
          "data": {
            "text/plain": [
              "[HumanMessage(content='How fast can an eagle fly?', metadata=None, type='human'),\n",
              " AIMessage(content='Eagles are known for their impressive flying abilities. The speed of an eagle can vary depending on the species and the circumstances. Generally, eagles can fly at speeds ranging from 30 to 50 miles per hour (48 to 80 kilometers per hour) during level flight. However, when diving to catch prey, some eagles can reach speeds of over 100 miles per hour (160 kilometers per hour). The golden eagle, for example, is known for its remarkable diving speed.', metadata=None, type='ai', tool_calls=[])]"
            ]
          },
          "metadata": {},
          "execution_count": 43
        }
      ]
    },
    {
      "cell_type": "code",
      "source": [
        "from ragas.metrics import TopicAdherenceScore\n",
        "\n",
        "sample = MultiTurnSample(\n",
        "    user_input=ragas_trace,\n",
        "    reference_topics = [\"stocks\"]\n",
        ")\n",
        "\n",
        "evaluator_llm = LangchainLLMWrapper(llm)\n",
        "scorer = TopicAdherenceScore(llm = evaluator_llm, mode=\"precision\")\n",
        "await scorer.multi_turn_ascore(sample)"
      ],
      "metadata": {
        "colab": {
          "base_uri": "https://localhost:8080/"
        },
        "id": "iLTMVPaMDzal",
        "outputId": "d0c84414-5869-40d6-832a-b213b98964f7"
      },
      "execution_count": null,
      "outputs": [
        {
          "output_type": "execute_result",
          "data": {
            "text/plain": [
              "0.0"
            ]
          },
          "metadata": {},
          "execution_count": 44
        }
      ]
    },
    {
      "cell_type": "markdown",
      "source": [
        "As we can see, the current implementation fails due to talking about birds, when it should be talking about stocks!"
      ],
      "metadata": {
        "id": "Ac2I2MZJEcK5"
      }
    }
  ],
  "metadata": {
    "colab": {
      "provenance": [],
      "collapsed_sections": [
        "K7iNPhN9_opo"
      ],
      "gpuType": "T4"
    },
    "kernelspec": {
      "display_name": "Python 3",
      "name": "python3"
    },
    "language_info": {
      "codemirror_mode": {
        "name": "ipython",
        "version": 3
      },
      "file_extension": ".py",
      "mimetype": "text/x-python",
      "name": "python",
      "nbconvert_exporter": "python",
      "pygments_lexer": "ipython3",
      "version": "3.11.9"
    },
    "accelerator": "GPU"
  },
  "nbformat": 4,
  "nbformat_minor": 0
}